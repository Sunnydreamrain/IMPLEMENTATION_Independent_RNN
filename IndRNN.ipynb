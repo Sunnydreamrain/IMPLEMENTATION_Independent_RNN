{
 "cells": [
  {
   "cell_type": "markdown",
   "metadata": {},
   "source": [
    "# Independent RNN Example"
   ]
  },
  {
   "cell_type": "markdown",
   "metadata": {},
   "source": [
    "## Data Preprocessing"
   ]
  },
  {
   "cell_type": "code",
   "execution_count": 1,
   "metadata": {
    "collapsed": true
   },
   "outputs": [],
   "source": [
    "%matplotlib inline\n",
    "import matplotlib.pyplot as plt\n",
    "import tensorflow as tf\n",
    "import numpy as np\n",
    "from sklearn.metrics import confusion_matrix\n",
    "import time\n",
    "from datetime import timedelta\n",
    "import math\n",
    "import os\n",
    "import pandas as pd\n",
    "#Functional coding\n",
    "import functools\n",
    "from functools import partial\n",
    "from tensorflow.python.ops import array_ops\n",
    "from tensorflow.contrib import rnn\n",
    "from tensorflow.contrib import layers\n",
    "from tqdm import tqdm"
   ]
  },
  {
   "cell_type": "code",
   "execution_count": 2,
   "metadata": {
    "collapsed": true
   },
   "outputs": [],
   "source": [
    "class_names = ['alt.atheism',\n",
    "                 'comp.graphics',\n",
    "                 'comp.os.ms-windows.misc',\n",
    "                 'comp.sys.ibm.pc.hardware',\n",
    "                 'comp.sys.mac.hardware',\n",
    "                 'comp.windows.x',\n",
    "                 'misc.forsale',\n",
    "                 'rec.autos',\n",
    "                 'rec.motorcycles',\n",
    "                 'rec.sport.baseball',\n",
    "                 'rec.sport.hockey',\n",
    "                 'sci.crypt',\n",
    "                 'sci.electronics',\n",
    "                 'sci.med',\n",
    "                 'sci.space',\n",
    "                 'soc.religion.christian',\n",
    "                 'talk.politics.guns',\n",
    "                 'talk.politics.mideast',\n",
    "                 'talk.politics.misc',\n",
    "                 'talk.religion.misc']"
   ]
  },
  {
   "cell_type": "code",
   "execution_count": 3,
   "metadata": {
    "collapsed": true
   },
   "outputs": [],
   "source": [
    "def print_confusion_matrix(confusion_matrix, class_names, \n",
    "                           figsize = (10,7), fontsize=14):\n",
    "\n",
    "    df_cm = pd.DataFrame(\n",
    "        confusion_matrix, index=class_names, columns=class_names, \n",
    "    )\n",
    "    fig = plt.figure(figsize=figsize)\n",
    "    try:\n",
    "        heatmap = sns.heatmap(df_cm, annot=True, fmt=\"d\")\n",
    "    except ValueError:\n",
    "        raise ValueError(\"Confusion matrix values must be integers.\")\n",
    "    heatmap.yaxis.set_ticklabels(heatmap.yaxis.get_ticklabels(), rotation=0, ha='right', fontsize=fontsize)\n",
    "    heatmap.xaxis.set_ticklabels(heatmap.xaxis.get_ticklabels(), rotation=45, ha='right', fontsize=fontsize)\n",
    "    plt.ylabel('True label')\n",
    "    plt.xlabel('Predicted label')\n",
    "    plt.show()"
   ]
  },
  {
   "cell_type": "code",
   "execution_count": 4,
   "metadata": {
    "collapsed": false
   },
   "outputs": [
    {
     "name": "stderr",
     "output_type": "stream",
     "text": [
      "Using TensorFlow backend.\n"
     ]
    }
   ],
   "source": [
    "from __future__ import print_function\n",
    "import matplotlib.pyplot as plt\n",
    "import seaborn as sns\n",
    "\n",
    "import os\n",
    "import sys\n",
    "import numpy as np\n",
    "import tensorflow as tf\n",
    "import pandas as pd\n",
    "import pickle\n",
    "from keras.preprocessing.text import Tokenizer\n",
    "from keras.preprocessing.sequence import pad_sequences\n",
    "from keras.utils import to_categorical"
   ]
  },
  {
   "cell_type": "code",
   "execution_count": 5,
   "metadata": {
    "collapsed": true
   },
   "outputs": [],
   "source": [
    "BASE_DIR = ''\n",
    "GLOVE_DIR = os.path.join(BASE_DIR, 'glove.6b')\n",
    "TEXT_DATA_DIR = os.path.join(BASE_DIR, '20_newsgroup')\n",
    "MAX_SEQUENCE_LENGTH = 2500\n",
    "MAX_NUM_WORDS = 20000\n",
    "EMBEDDING_DIM = 100\n",
    "RNN_DIM = 100\n",
    "CLASS_DIM = 20\n",
    "VALIDATION_SPLIT = 0.4"
   ]
  },
  {
   "cell_type": "code",
   "execution_count": 6,
   "metadata": {
    "collapsed": true
   },
   "outputs": [],
   "source": [
    "def get_data(data_path):\n",
    "    texts = []  # list of text samples\n",
    "    labels_index = {}  # dictionary mapping label name to numeric id\n",
    "    labels = []  # list of label ids\n",
    "    for name in sorted(os.listdir(data_path)):\n",
    "        path = os.path.join(data_path, name)\n",
    "        if os.path.isdir(path):\n",
    "            label_id = len(labels_index)\n",
    "            labels_index[name] = label_id\n",
    "            for fname in sorted(os.listdir(path)):\n",
    "                if fname.isdigit():\n",
    "                    fpath = os.path.join(path, fname)\n",
    "                    args = {} if sys.version_info < (3,) else {'encoding': 'latin-1'}\n",
    "                    with open(fpath, **args) as f:\n",
    "                        t = f.read()\n",
    "                        i = t.find('\\n\\n')  # skip header\n",
    "                        if 0 < i:\n",
    "                            t = t[i:]\n",
    "                        texts.append(t)\n",
    "                    labels.append(label_id)\n",
    "    return texts, labels_index, labels"
   ]
  },
  {
   "cell_type": "code",
   "execution_count": 7,
   "metadata": {
    "collapsed": false
   },
   "outputs": [],
   "source": [
    "texts, labels_index, labels = get_data(TEXT_DATA_DIR)"
   ]
  },
  {
   "cell_type": "code",
   "execution_count": 8,
   "metadata": {
    "collapsed": true
   },
   "outputs": [],
   "source": [
    "indices = np.arange(len(texts))\n",
    "np.random.shuffle(indices)\n",
    "num_validation_samples = int(VALIDATION_SPLIT * len(texts))"
   ]
  },
  {
   "cell_type": "code",
   "execution_count": 9,
   "metadata": {
    "collapsed": true
   },
   "outputs": [],
   "source": [
    "def data_preprocessing(texts, labels, indices, num_validation_samples, classifier=\"NeuralNetwork\"):\n",
    "    \n",
    "    word_index = None\n",
    "    \n",
    "    if classifier == \"NeuralNetwork\":\n",
    "        tokenizer = Tokenizer(num_words=MAX_NUM_WORDS)\n",
    "        tokenizer.fit_on_texts(texts)\n",
    "        sequences = tokenizer.texts_to_sequences(texts)\n",
    "        \n",
    "        plt.figure()\n",
    "        plt.hist([len(x) for x in sequences])\n",
    "        plt.xlabel('Length of Document')\n",
    "        plt.ylabel('Number of Documents')\n",
    "        plt.title('Statistic of Data')\n",
    "        plt.grid(True)\n",
    "        plt.show()\n",
    "        \n",
    "        word_index = tokenizer.word_index\n",
    "        \n",
    "        with open('tokenizer.pickle', 'wb') as handle:\n",
    "            pickle.dump(tokenizer, handle, protocol=pickle.HIGHEST_PROTOCOL)\n",
    "        \n",
    "        data = pad_sequences(sequences, maxlen=MAX_SEQUENCE_LENGTH)\n",
    "        \n",
    "    else:\n",
    "        vectorizer = TfidfVectorizer()\n",
    "        data = vectorizer.fit_transform(texts)\n",
    "    \n",
    "    labels = to_categorical(np.asarray(labels))  \n",
    "    data = data[indices]\n",
    "    labels = labels[indices]\n",
    "\n",
    "    x_train = data[:-num_validation_samples]\n",
    "    y_train = labels[:-num_validation_samples]\n",
    "    x_val = data[-num_validation_samples:]\n",
    "    y_val = labels[-num_validation_samples:]\n",
    "    \n",
    "    return x_train, y_train, x_val, y_val, word_index"
   ]
  },
  {
   "cell_type": "code",
   "execution_count": 10,
   "metadata": {
    "collapsed": true
   },
   "outputs": [],
   "source": [
    "from keras.layers import Dense, Input, GlobalMaxPooling1D, Flatten\n",
    "from keras.layers import Conv1D, MaxPooling1D, Embedding, LSTM, GRU, Concatenate, Dropout\n",
    "from keras.models import Model\n",
    "from keras import backend as K"
   ]
  },
  {
   "cell_type": "code",
   "execution_count": 11,
   "metadata": {
    "collapsed": false
   },
   "outputs": [
    {
     "data": {
      "image/png": "[encoded data removed]",
      "text/plain": [
       "<matplotlib.figure.Figure at 0x7fe2129256d0>"
      ]
     },
     "metadata": {},
     "output_type": "display_data"
    }
   ],
   "source": [
    "x_train, y_train, x_val, y_val, word_index = data_preprocessing(texts, \n",
    "                                                                labels, \n",
    "                                                                indices, \n",
    "                                                                num_validation_samples, \n",
    "                                                                classifier=\"NeuralNetwork\")"
   ]
  },
  {
   "cell_type": "code",
   "execution_count": 12,
   "metadata": {
    "collapsed": true
   },
   "outputs": [],
   "source": [
    "def get_embedding_matrix(word_index):\n",
    "    \n",
    "    embeddings_index = {}\n",
    "    with open(os.path.join(GLOVE_DIR, 'glove.6B.{0}d.txt'.format(EMBEDDING_DIM))) as f:\n",
    "        for line in f:\n",
    "            values = line.split()\n",
    "            word = values[0]\n",
    "            coefs = np.asarray(values[1:], dtype='float32')\n",
    "            embeddings_index[word] = coefs\n",
    "    \n",
    "    num_words = min(MAX_NUM_WORDS, len(word_index) + 1)\n",
    "    embedding_matrix = np.zeros((num_words, EMBEDDING_DIM))\n",
    "    for word, i in word_index.items():\n",
    "        if i >= MAX_NUM_WORDS:\n",
    "            continue\n",
    "        embedding_vector = embeddings_index.get(word)\n",
    "        if embedding_vector is not None:\n",
    "            embedding_matrix[i] = embedding_vector\n",
    "    return embedding_matrix, num_words"
   ]
  },
  {
   "cell_type": "code",
   "execution_count": 13,
   "metadata": {
    "collapsed": true
   },
   "outputs": [],
   "source": [
    "embedding_matrix, num_words = get_embedding_matrix(word_index)"
   ]
  },
  {
   "cell_type": "markdown",
   "metadata": {},
   "source": [
    "# Independent RNN Cell"
   ]
  },
  {
   "cell_type": "code",
   "execution_count": 14,
   "metadata": {
    "collapsed": false
   },
   "outputs": [],
   "source": [
    "class IndCell(tf.nn.rnn_cell.RNNCell):\n",
    "\n",
    "    def __init__(self, num_state_units, num_input_units):\n",
    "        self.num_state_units = num_state_units\n",
    "        self.w = self.weight_variable([num_input_units, self.num_state_units], 'w')\n",
    "        self.u = self.weight_variable([self.num_state_units], 'u')\n",
    "        self.b = self.bias_variable([self.num_state_units], 'b')\n",
    "\n",
    "\n",
    "    @property\n",
    "    def state_size(self):\n",
    "        return self.num_state_units\n",
    "\n",
    "    @property\n",
    "    def output_size(self):\n",
    "        return self.num_state_units\n",
    "\n",
    "    def __call__(self, inputs, state, scope=None):\n",
    "        \n",
    "        with tf.variable_scope(scope or type(self).__name__):\n",
    "            \n",
    "            encoded = tf.matmul(inputs, self.w)\n",
    "            state = state*self.u\n",
    "            next_state = tf.nn.relu(encoded + state + self.b)\n",
    "\n",
    "            return next_state, next_state\n",
    "        \n",
    "    \n",
    "    # Weight constructing function\n",
    "    @staticmethod\n",
    "    def weight_variable(shape, name=\"w\"):\n",
    "        initial = tf.truncated_normal(shape, stddev=0.0001)\n",
    "        return tf.Variable(initial, name=name)\n",
    "\n",
    "    # Bias constructing function\n",
    "    @staticmethod\n",
    "    def bias_variable(shape, name=\"b\"):\n",
    "        initial = tf.constant(0., shape=shape)\n",
    "        return tf.Variable(initial, name=name)"
   ]
  },
  {
   "cell_type": "code",
   "execution_count": 15,
   "metadata": {
    "collapsed": true
   },
   "outputs": [],
   "source": [
    "indcell = IndCell(10, 30)"
   ]
  },
  {
   "cell_type": "code",
   "execution_count": 16,
   "metadata": {
    "collapsed": true
   },
   "outputs": [],
   "source": [
    "initial_state = indcell.zero_state(100, dtype=tf.float32)"
   ]
  },
  {
   "cell_type": "code",
   "execution_count": 17,
   "metadata": {
    "collapsed": true
   },
   "outputs": [],
   "source": [
    "a = tf.Variable(tf.truncated_normal(shape=[100, 30],mean=0.0, stddev=1.0),name=\"action\")"
   ]
  },
  {
   "cell_type": "code",
   "execution_count": 18,
   "metadata": {
    "collapsed": false
   },
   "outputs": [
    {
     "data": {
      "text/plain": [
       "(<tf.Tensor 'cell_test/Relu:0' shape=(100, 10) dtype=float32>,\n",
       " <tf.Tensor 'cell_test/Relu:0' shape=(100, 10) dtype=float32>)"
      ]
     },
     "execution_count": 18,
     "metadata": {},
     "output_type": "execute_result"
    }
   ],
   "source": [
    "indcell(a, initial_state, scope='cell_test')"
   ]
  },
  {
   "cell_type": "markdown",
   "metadata": {},
   "source": [
    "# Tensorflow RNN Classifier"
   ]
  },
  {
   "cell_type": "code",
   "execution_count": 19,
   "metadata": {
    "collapsed": true
   },
   "outputs": [],
   "source": [
    "class RNNClassifier(object):\n",
    "    def __init__(self, input_dim, embedding_dim, rnn_dim, \n",
    "                 class_dim, timesteps, embedding_matrix, \n",
    "                 learning_rate=0.001):\n",
    "        self.input_dim = input_dim\n",
    "        self.embedding_dim = embedding_dim\n",
    "        self.rnn_dim = rnn_dim\n",
    "        self.class_dim = class_dim\n",
    "        self.timesteps = timesteps\n",
    "        self.learning_rate = learning_rate\n",
    "        self.create_graph(embedding_matrix)        \n",
    "        self._sesh = tf.Session()\n",
    "        init = tf.global_variables_initializer()\n",
    "        self._sesh.run(init)\n",
    "        \n",
    "    \n",
    "    def create_graph(self, embedding_matrix):\n",
    "        self.X = tf.placeholder(tf.int32, [None, self.timesteps])\n",
    "        self.Y = tf.placeholder(tf.float32, [None, self.class_dim])\n",
    "        with tf.variable_scope(\"Embedding\"):\n",
    "            glove_weights_initializer = tf.constant_initializer(embedding_matrix)\n",
    "            embedding_weights = tf.get_variable(name='embedding_weights', \n",
    "                                                shape=embedding_matrix.shape, \n",
    "                                                initializer=glove_weights_initializer,\n",
    "                                                trainable=False)\n",
    "            embed = tf.nn.embedding_lookup(embedding_weights, self.X)\n",
    "        with tf.variable_scope(\"RNN\"):\n",
    "            indcell = IndCell(self.rnn_dim, self.embedding_dim)\n",
    "            initial_state = indcell.zero_state(64, dtype=tf.float32)\n",
    "            outputs, states = tf.nn.dynamic_rnn(indcell, embed, dtype=tf.float32, initial_state=initial_state)\n",
    "        with tf.variable_scope(\"Dense\"):\n",
    "            fc = layers.fully_connected(states, 500, scope='fc-01')\n",
    "            logits = layers.fully_connected(states, self.class_dim, scope='fc-02', activation_fn=None)\n",
    "            \n",
    "        self.prediction = tf.nn.softmax(logits)\n",
    "            \n",
    "        with tf.variable_scope(\"Loss\"):\n",
    "            self.loss_op = tf.reduce_mean(tf.nn.softmax_cross_entropy_with_logits(\n",
    "                    logits=logits, labels=self.Y))\n",
    "            optimizer = tf.train.RMSPropOptimizer(learning_rate=self.learning_rate)\n",
    "            self.train_op = optimizer.minimize(self.loss_op)   \n",
    "            \n",
    "    @staticmethod        \n",
    "    def next_batch(num, data, labels):\n",
    "        '''\n",
    "        Return a total of `num` random samples and labels. \n",
    "        '''\n",
    "        idx = np.arange(0 , len(data))\n",
    "        np.random.shuffle(idx)\n",
    "        idx = idx[:num]\n",
    "        data_shuffle = [data[ i] for i in idx]\n",
    "        labels_shuffle = [labels[ i] for i in idx]\n",
    "\n",
    "        return np.asarray(data_shuffle), np.asarray(labels_shuffle)\n",
    "        \n",
    "        \n",
    "    \n",
    "    def update(self, X, Y, batch_size, epochs=1):\n",
    "\n",
    "        tbar = tqdm(range(epochs))\n",
    "        for i in tbar:\n",
    "            x,y = self.next_batch(batch_size,X,Y)\n",
    "            _, loss = self._sesh.run([self.train_op, self.loss_op],\n",
    "                                     feed_dict={self.X: x, self.Y: y}\n",
    "                                    )\n",
    "\n",
    "            s = \"Loss: {:.4f}\".format(loss)\n",
    "            tbar.set_description(s)\n",
    "        "
   ]
  },
  {
   "cell_type": "code",
   "execution_count": null,
   "metadata": {
    "collapsed": false
   },
   "outputs": [],
   "source": [
    "tf.reset_default_graph()\n",
    "clf = RNNClassifier(MAX_NUM_WORDS, EMBEDDING_DIM, RNN_DIM, CLASS_DIM, MAX_SEQUENCE_LENGTH, embedding_matrix)"
   ]
  },
  {
   "cell_type": "code",
   "execution_count": null,
   "metadata": {
    "collapsed": false
   },
   "outputs": [
    {
     "name": "stderr",
     "output_type": "stream",
     "text": [
      "Loss: 2.9952:   0%|          | 24/100000 [00:10<11:54:23,  2.33it/s]"
     ]
    }
   ],
   "source": [
    "clf.update(x_train, y_train, 64, 100000)"
   ]
  },
  {
   "cell_type": "code",
   "execution_count": null,
   "metadata": {
    "collapsed": true
   },
   "outputs": [],
   "source": [
    "\n",
    "from IPython.display import clear_output, Image, display, HTML\n",
    "\n",
    "def strip_consts(graph_def, max_const_size=32):\n",
    "    \"\"\"Strip large constant values from graph_def.\"\"\"\n",
    "    strip_def = tf.GraphDef()\n",
    "    for n0 in graph_def.node:\n",
    "        n = strip_def.node.add() \n",
    "        n.MergeFrom(n0)\n",
    "        if n.op == 'Const':\n",
    "            tensor = n.attr['value'].tensor\n",
    "            size = len(tensor.tensor_content)\n",
    "            if size > max_const_size:\n",
    "                tensor.tensor_content = \"<stripped %d bytes>\"%size\n",
    "    return strip_def\n",
    "\n",
    "def show_graph(graph_def, max_const_size=32):\n",
    "    \"\"\"Visualize TensorFlow graph.\"\"\"\n",
    "    if hasattr(graph_def, 'as_graph_def'):\n",
    "        graph_def = graph_def.as_graph_def()\n",
    "    strip_def = strip_consts(graph_def, max_const_size=max_const_size)\n",
    "    code = \"\"\"\n",
    "        <script>\n",
    "          function load() {{\n",
    "            document.getElementById(\"{id}\").pbtxt = {data};\n",
    "          }}\n",
    "        </script>\n",
    "        <link rel=\"import\" href=\"https://tensorboard.appspot.com/tf-graph-basic.build.html\" onload=load()>\n",
    "        <div style=\"height:600px\">\n",
    "          <tf-graph-basic id=\"{id}\"></tf-graph-basic>\n",
    "        </div>\n",
    "    \"\"\".format(data=repr(str(strip_def)), id='graph'+str(np.random.rand()))\n",
    "\n",
    "    iframe = \"\"\"\n",
    "        <iframe seamless style=\"width:1200px;height:620px;border:0\" srcdoc=\"{}\"></iframe>\n",
    "    \"\"\".format(code.replace('\"', '&quot;'))\n",
    "    display(HTML(iframe))"
   ]
  },
  {
   "cell_type": "code",
   "execution_count": null,
   "metadata": {
    "collapsed": false
   },
   "outputs": [],
   "source": [
    "show_graph(tf.get_default_graph().as_graph_def())"
   ]
  },
  {
   "cell_type": "code",
   "execution_count": null,
   "metadata": {
    "collapsed": true
   },
   "outputs": [],
   "source": []
  }
 ],
 "metadata": {
  "kernelspec": {
   "display_name": "Python 2",
   "language": "python",
   "name": "python2"
  },
  "language_info": {
   "codemirror_mode": {
    "name": "ipython",
    "version": 2
   },
   "file_extension": ".py",
   "mimetype": "text/x-python",
   "name": "python",
   "nbconvert_exporter": "python",
   "pygments_lexer": "ipython2",
   "version": "2.7.6"
  }
 },
 "nbformat": 4,
 "nbformat_minor": 1
}
